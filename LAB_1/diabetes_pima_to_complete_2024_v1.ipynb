{
  "cells": [
    {
      "cell_type": "markdown",
      "metadata": {
        "id": "g8ppk0s6SO2n"
      },
      "source": [
        "# **AI4BH Lab Session 1**\n",
        "\n",
        "## **Problem:**\n",
        "\n",
        "Prediction of type 2 diabetes mellitus (T2DM) at an early stage can lead to improved treatment and increased quality of life. Diagnosis of diabetes is considered a challenging problem at an early stage. A single parameter is not very effective at accurately diagnosing diabetes and may be misleading in the decision making process. There is a need to combine different parameters to effectively predict diabetes at an early stage. You need to develop a machine learning model that can predict whether people have diabetes based on a subset of their clinical data.\n",
        "\n",
        "\n",
        "Read more:\n",
        "https://www.nature.com/articles/s41598-020-61123-x\n",
        "\n",
        "\n",
        "## **Dataset:**\n",
        "\n",
        "The dataset is part of the large dataset held at the National Institutes of Diabetes-Digestive-Kidney Diseases (NIH). The target variable is specified as \"Outcome\"; 1 indicates positive diabetes test result, 0 indicates negative.\n",
        "\n",
        "Dataset description can be found in this paper:\n",
        "https://www.sciencedirect.com/science/article/pii/S2352914819300176\n",
        "\n",
        "\n",
        "### **Variables:**\n",
        "* Pregnancies    : Number of pregnancies\n",
        "* Glucose        : 2-hour plasma glucose concentration in the oral glucose tolerance test\n",
        "* Blood Pressure : Blood Pressure (mm Hg)\n",
        "* Skin Thickness  : Skin Thickness\n",
        "* Insulin        : 2-hour serum insulin (mu U/ml)\n",
        "* Diabetes Pedigree Function\n",
        "* BMI            : Body mass index\n",
        "* Age            : Age (years)\n",
        "* Outcome        : Have the disease (1) or not (0)"
      ]
    },
    {
      "cell_type": "markdown",
      "metadata": {
        "id": "g9A2ZxHTSO2s"
      },
      "source": [
        "## 📚 0. Import Libraries (Nothing to do)"
      ]
    },
    {
      "cell_type": "code",
      "execution_count": 88,
      "metadata": {
        "execution": {
          "iopub.execute_input": "2022-01-17T13:22:46.576281Z",
          "iopub.status.busy": "2022-01-17T13:22:46.575984Z",
          "iopub.status.idle": "2022-01-17T13:22:48.037217Z",
          "shell.execute_reply": "2022-01-17T13:22:48.0363Z",
          "shell.execute_reply.started": "2022-01-17T13:22:46.576244Z"
        },
        "id": "Hcvt4v9wSO2s"
      },
      "outputs": [],
      "source": [
        "import numpy as np\n",
        "import pandas as pd\n",
        "import seaborn as sns\n",
        "from matplotlib import pyplot as plt\n",
        "import os\n",
        "# !pip install missingno\n",
        "import missingno as msno\n",
        "from datetime import date\n",
        "from sklearn.metrics import accuracy_score\n",
        "from sklearn.model_selection import train_test_split\n",
        "from sklearn.neighbors import LocalOutlierFactor\n",
        "from sklearn.preprocessing import MinMaxScaler, LabelEncoder, StandardScaler, RobustScaler"
      ]
    },
    {
      "cell_type": "code",
      "execution_count": 89,
      "metadata": {
        "execution": {
          "iopub.execute_input": "2022-01-17T13:22:48.040148Z",
          "iopub.status.busy": "2022-01-17T13:22:48.039167Z",
          "iopub.status.idle": "2022-01-17T13:22:48.047352Z",
          "shell.execute_reply": "2022-01-17T13:22:48.046217Z",
          "shell.execute_reply.started": "2022-01-17T13:22:48.0401Z"
        },
        "id": "k4CcTDENSO2t"
      },
      "outputs": [],
      "source": [
        "# some adjustments\n",
        "pd.set_option('display.max_columns', None)\n",
        "pd.set_option('display.max_rows', None)\n",
        "pd.set_option('display.float_format', lambda x: '%.3f' % x)\n",
        "pd.set_option('display.width', 500)"
      ]
    },
    {
      "cell_type": "markdown",
      "metadata": {
        "id": "9kbpo0SuSO2u"
      },
      "source": [
        "## 👓 1. Reading the Dataset (Nothing to do)\n",
        "\n",
        "You can alternatively use colab's [import file feature](https://colab.research.google.com/notebooks/io.ipynb)"
      ]
    },
    {
      "cell_type": "code",
      "execution_count": 90,
      "metadata": {
        "colab": {
          "base_uri": "https://localhost:8080/",
          "height": 304
        },
        "execution": {
          "iopub.execute_input": "2022-01-17T13:22:48.049258Z",
          "iopub.status.busy": "2022-01-17T13:22:48.048869Z",
          "iopub.status.idle": "2022-01-17T13:22:48.075845Z",
          "shell.execute_reply": "2022-01-17T13:22:48.075222Z",
          "shell.execute_reply.started": "2022-01-17T13:22:48.049216Z"
        },
        "id": "eVrpAX_KSO2v",
        "outputId": "350e0b3b-f703-440f-d000-20dbde258463"
      },
      "outputs": [],
      "source": [
        "df_ = pd.read_csv('./biomed_diabetes.csv')\n",
        "df = df_.copy()"
      ]
    },
    {
      "cell_type": "code",
      "execution_count": 91,
      "metadata": {
        "execution": {
          "iopub.execute_input": "2022-01-17T13:22:48.079901Z",
          "iopub.status.busy": "2022-01-17T13:22:48.079426Z",
          "iopub.status.idle": "2022-01-17T13:22:48.109537Z",
          "shell.execute_reply": "2022-01-17T13:22:48.108907Z",
          "shell.execute_reply.started": "2022-01-17T13:22:48.079869Z"
        },
        "id": "bbNwradwSO2w"
      },
      "outputs": [],
      "source": [
        "# auxiliary functions\n",
        "def check_df(dataframe):\n",
        "    print(\"##################### Shape #####################\")\n",
        "    print(dataframe.shape)\n",
        "    print(\"##################### Types #####################\")\n",
        "    print(dataframe.dtypes)\n",
        "    print(\"##################### Head #####################\")\n",
        "    print(dataframe.head(3))\n",
        "    print(\"##################### Tail #####################\")\n",
        "    print(dataframe.tail(3))\n",
        "    print(\"##################### NA #####################\")\n",
        "    print(dataframe.isnull().sum())\n",
        "    print(\"##################### Quantiles #####################\")\n",
        "    print(dataframe.quantile([0, 0.05, 0.50, 0.95, 0.99, 1]).T)\n",
        "\n",
        "\n",
        "def grab_col_names(dataframe, cat_th=10, car_th=20):\n",
        "    \"\"\"\n",
        "\n",
        "\n",
        "    ------\n",
        "        dataframe: dataframe\n",
        "\n",
        "        cat_th: int, optional\n",
        "\n",
        "        car_th: int, optinal\n",
        "\n",
        "\n",
        "    Returns\n",
        "    ------\n",
        "        cat_cols: list\n",
        "                Categorical features\n",
        "        num_cols: list\n",
        "                Numerical features\n",
        "        cat_but_car: list\n",
        "               Categorical view cardinal variable list\n",
        "\n",
        "    Examples\n",
        "    ------\n",
        "        import seaborn as sns\n",
        "        df = sns.load_dataset(\"iris\")\n",
        "        print(grab_col_names(df))\n",
        "\n",
        "    \"\"\"\n",
        "\n",
        "    # cat_cols, cat_but_car\n",
        "    cat_cols = [col for col in dataframe.columns if dataframe[col].dtypes == \"O\"]\n",
        "    num_but_cat = [col for col in dataframe.columns if dataframe[col].nunique() < cat_th and\n",
        "                   dataframe[col].dtypes != \"O\"]\n",
        "    cat_but_car = [col for col in dataframe.columns if dataframe[col].nunique() > car_th and\n",
        "                   dataframe[col].dtypes == \"O\"]\n",
        "    cat_cols = cat_cols + num_but_cat\n",
        "    cat_cols = [col for col in cat_cols if col not in cat_but_car]\n",
        "\n",
        "    # num_cols\n",
        "    num_cols = [col for col in dataframe.columns if dataframe[col].dtypes != \"O\"]\n",
        "    num_cols = [col for col in num_cols if col not in num_but_cat]\n",
        "\n",
        "    print(f\"Observations: {dataframe.shape[0]}\")\n",
        "    print(f\"Variables: {dataframe.shape[1]}\")\n",
        "    print(f'cat_cols: {len(cat_cols)}')\n",
        "    print(f'num_cols: {len(num_cols)}')\n",
        "    print(f'cat_but_car: {len(cat_but_car)}')\n",
        "    print(f'num_but_cat: {len(num_but_cat)}')\n",
        "    return cat_cols, num_cols, cat_but_car\n",
        "\n",
        "\n",
        "\n",
        "\n",
        "def missing_values_table(dataframe, na_name=False):\n",
        "    na_columns = [col for col in dataframe.columns if dataframe[col].isnull().sum() > 0]\n",
        "    n_miss = dataframe[na_columns].isnull().sum().sort_values(ascending=False)\n",
        "    ratio = (dataframe[na_columns].isnull().sum() / dataframe.shape[0] * 100).sort_values(ascending=False)\n",
        "    missing_df = pd.concat([n_miss, np.round(ratio, 2)], axis=1, keys=['n_miss', 'ratio'])\n",
        "    print(missing_df, end=\"\\n\")\n",
        "    if na_name:\n",
        "        return na_columns\n",
        "\n",
        "def missing_vs_target(dataframe, target, na_columns):\n",
        "    temp_df = dataframe.copy()\n",
        "\n",
        "    for col in na_columns:\n",
        "        temp_df[col + '_NA_FLAG'] = np.where(temp_df[col].isnull(), 1, 0)\n",
        "\n",
        "    na_flags = temp_df.loc[:, temp_df.columns.str.contains(\"_NA_\")].columns\n",
        "\n",
        "    for col in na_flags:\n",
        "        print(pd.DataFrame({\"TARGET_MEAN\": temp_df.groupby(col)[target].mean(),\n",
        "                            \"Count\": temp_df.groupby(col)[target].count()}), end=\"\\n\\n\\n\")\n",
        "\n",
        "df.columns = [col.upper() for col in df.columns]"
      ]
    },
    {
      "cell_type": "markdown",
      "metadata": {
        "id": "ZeqIE8Q3SO2y"
      },
      "source": [
        "## 💿 2. Data preparation"
      ]
    },
    {
      "cell_type": "code",
      "execution_count": 92,
      "metadata": {
        "execution": {
          "iopub.execute_input": "2022-01-17T13:22:48.111333Z",
          "iopub.status.busy": "2022-01-17T13:22:48.111101Z",
          "iopub.status.idle": "2022-01-17T13:22:48.152068Z",
          "shell.execute_reply": "2022-01-17T13:22:48.150841Z",
          "shell.execute_reply.started": "2022-01-17T13:22:48.111305Z"
        },
        "id": "7n0oOMxASO2y"
      },
      "outputs": [
        {
          "name": "stdout",
          "output_type": "stream",
          "text": [
            "##################### Shape #####################\n",
            "(768, 9)\n",
            "##################### Types #####################\n",
            "PREGNANCIES                   int64\n",
            "GLUCOSE                       int64\n",
            "BLOODPRESSURE                 int64\n",
            "SKINTHICKNESS                 int64\n",
            "INSULIN                       int64\n",
            "BMI                         float64\n",
            "DIABETESPEDIGREEFUNCTION    float64\n",
            "AGE                           int64\n",
            "OUTCOME                       int64\n",
            "dtype: object\n",
            "##################### Head #####################\n",
            "   PREGNANCIES  GLUCOSE  BLOODPRESSURE  SKINTHICKNESS  INSULIN    BMI  DIABETESPEDIGREEFUNCTION  AGE  OUTCOME\n",
            "0            6      148             72             35        0 33.600                     0.627   50        1\n",
            "1            1       85             66             29        0 26.600                     0.351   31        0\n",
            "2            8      183             64              0        0 23.300                     0.672   32        1\n",
            "##################### Tail #####################\n",
            "     PREGNANCIES  GLUCOSE  BLOODPRESSURE  SKINTHICKNESS  INSULIN    BMI  DIABETESPEDIGREEFUNCTION  AGE  OUTCOME\n",
            "765            5      121             72             23      112 26.200                     0.245   30        0\n",
            "766            1      126             60              0        0 30.100                     0.349   47        1\n",
            "767            1       93             70             31        0 30.400                     0.315   23        0\n",
            "##################### NA #####################\n",
            "PREGNANCIES                 0\n",
            "GLUCOSE                     0\n",
            "BLOODPRESSURE               0\n",
            "SKINTHICKNESS               0\n",
            "INSULIN                     0\n",
            "BMI                         0\n",
            "DIABETESPEDIGREEFUNCTION    0\n",
            "AGE                         0\n",
            "OUTCOME                     0\n",
            "dtype: int64\n",
            "##################### Quantiles #####################\n",
            "                          0.000  0.050   0.500   0.950   0.990   1.000\n",
            "PREGNANCIES               0.000  0.000   3.000  10.000  13.000  17.000\n",
            "GLUCOSE                   0.000 79.000 117.000 181.000 196.000 199.000\n",
            "BLOODPRESSURE             0.000 38.700  72.000  90.000 106.000 122.000\n",
            "SKINTHICKNESS             0.000  0.000  23.000  44.000  51.330  99.000\n",
            "INSULIN                   0.000  0.000  30.500 293.000 519.900 846.000\n",
            "BMI                       0.000 21.800  32.000  44.395  50.759  67.100\n",
            "DIABETESPEDIGREEFUNCTION  0.078  0.140   0.372   1.133   1.698   2.420\n",
            "AGE                      21.000 21.000  29.000  58.000  67.000  81.000\n",
            "OUTCOME                   0.000  0.000   0.000   1.000   1.000   1.000\n"
          ]
        }
      ],
      "source": [
        "check_df(df)"
      ]
    },
    {
      "cell_type": "code",
      "execution_count": 93,
      "metadata": {
        "execution": {
          "iopub.execute_input": "2022-01-17T13:22:48.15399Z",
          "iopub.status.busy": "2022-01-17T13:22:48.153671Z",
          "iopub.status.idle": "2022-01-17T13:22:48.165323Z",
          "shell.execute_reply": "2022-01-17T13:22:48.164244Z",
          "shell.execute_reply.started": "2022-01-17T13:22:48.153942Z"
        },
        "id": "KFZr_9NlSO2z"
      },
      "outputs": [
        {
          "name": "stdout",
          "output_type": "stream",
          "text": [
            "Observations: 768\n",
            "Variables: 9\n",
            "cat_cols: 1\n",
            "num_cols: 8\n",
            "cat_but_car: 0\n",
            "num_but_cat: 1\n"
          ]
        }
      ],
      "source": [
        "cat_cols, num_cols, cat_but_car = grab_col_names(df)"
      ]
    },
    {
      "cell_type": "markdown",
      "metadata": {
        "id": "ONoYXiCexHz8"
      },
      "source": [
        "### 2.1 Data exploration\n",
        "\n",
        "❗**Plot the label distribution. What is the ratio of positive cases?**\n",
        "(Hint: use the function cat_summary which uses seaborns  countplot: https://seaborn.pydata.org/generated/seaborn.countplot.html\n",
        "\n",
        "Alternatively you can use the histplot method directly: https://seaborn.pydata.org/generated/seaborn.histplot.html."
      ]
    },
    {
      "cell_type": "code",
      "execution_count": 94,
      "metadata": {
        "execution": {
          "iopub.execute_input": "2022-01-17T13:22:48.16721Z",
          "iopub.status.busy": "2022-01-17T13:22:48.166899Z",
          "iopub.status.idle": "2022-01-17T13:22:48.366434Z",
          "shell.execute_reply": "2022-01-17T13:22:48.365876Z",
          "shell.execute_reply.started": "2022-01-17T13:22:48.16718Z"
        },
        "id": "_6VfQ47BSO2z"
      },
      "outputs": [
        {
          "data": {
            "image/png": "[encoded data removed]",
            "text/plain": [
              "<Figure size 640x480 with 1 Axes>"
            ]
          },
          "metadata": {},
          "output_type": "display_data"
        }
      ],
      "source": [
        "def cat_summary(dataframe, col_name, plot=False):\n",
        "    # print(pd.DataFrame({col_name: dataframe[col_name].value_counts(),\n",
        "                        # \"Ratio\": 100 * dataframe[col_name].value_counts() / len(dataframe)}))\n",
        "    # print(\"##########################################\")\n",
        "    if plot:\n",
        "        sns.countplot(x=dataframe[col_name], data=dataframe)\n",
        "        plt.show()\n",
        "\n",
        "\n",
        "## ... plot here ... ##\n",
        "\n",
        "cat_summary(df, 'GLUCOSE', True)\n",
        "\n",
        "\n"
      ]
    },
    {
      "cell_type": "markdown",
      "metadata": {
        "id": "a8yUgn4qx1yq"
      },
      "source": [
        "❗**Summarize the features. Plot the distriobution of each feature. Do you notice anything weird?**\n",
        "\n",
        "(Hint: use the histplot seaborn method: https://seaborn.pydata.org/generated/seaborn.histplot.html)\n",
        "\n",
        "Tryout the pairplot method from seaborn also!"
      ]
    },
    {
      "cell_type": "code",
      "execution_count": 95,
      "metadata": {
        "execution": {
          "iopub.execute_input": "2022-01-17T13:22:48.367717Z",
          "iopub.status.busy": "2022-01-17T13:22:48.367325Z",
          "iopub.status.idle": "2022-01-17T13:22:50.302175Z",
          "shell.execute_reply": "2022-01-17T13:22:50.301535Z",
          "shell.execute_reply.started": "2022-01-17T13:22:48.367684Z"
        },
        "id": "C_IFMJMaSO20"
      },
      "outputs": [],
      "source": [
        "\n",
        "def num_summary(dataframe, numerical_col, plot= False):\n",
        "\n",
        "    print(dataframe[numerical_col].describe().T)\n",
        "\n",
        "    if plot:\n",
        "        dataframe[numerical_col].hist(bins=20)\n",
        "        plt.xlabel(numerical_col)\n",
        "        plt.title(numerical_col)\n",
        "        plt.show()\n",
        "\n",
        "# sns.pairplot(df)\n",
        "\n"
      ]
    },
    {
      "cell_type": "markdown",
      "metadata": {
        "id": "baHiQ43syiXV"
      },
      "source": [
        "❗**Are patients diagnosed with diabetes older or younger than the rest?** (You can use the function below. Or you  write your own script directly)"
      ]
    },
    {
      "cell_type": "code",
      "execution_count": 96,
      "metadata": {},
      "outputs": [
        {
          "data": {
            "text/html": [
              "<div>\n",
              "<style scoped>\n",
              "    .dataframe tbody tr th:only-of-type {\n",
              "        vertical-align: middle;\n",
              "    }\n",
              "\n",
              "    .dataframe tbody tr th {\n",
              "        vertical-align: top;\n",
              "    }\n",
              "\n",
              "    .dataframe thead th {\n",
              "        text-align: right;\n",
              "    }\n",
              "</style>\n",
              "<table border=\"1\" class=\"dataframe\">\n",
              "  <thead>\n",
              "    <tr style=\"text-align: right;\">\n",
              "      <th></th>\n",
              "      <th>PREGNANCIES</th>\n",
              "      <th>GLUCOSE</th>\n",
              "      <th>BLOODPRESSURE</th>\n",
              "      <th>SKINTHICKNESS</th>\n",
              "      <th>INSULIN</th>\n",
              "      <th>BMI</th>\n",
              "      <th>DIABETESPEDIGREEFUNCTION</th>\n",
              "      <th>AGE</th>\n",
              "      <th>OUTCOME</th>\n",
              "    </tr>\n",
              "  </thead>\n",
              "  <tbody>\n",
              "    <tr>\n",
              "      <th>0</th>\n",
              "      <td>6</td>\n",
              "      <td>148</td>\n",
              "      <td>72</td>\n",
              "      <td>35</td>\n",
              "      <td>0</td>\n",
              "      <td>33.600</td>\n",
              "      <td>0.627</td>\n",
              "      <td>50</td>\n",
              "      <td>1</td>\n",
              "    </tr>\n",
              "    <tr>\n",
              "      <th>1</th>\n",
              "      <td>1</td>\n",
              "      <td>85</td>\n",
              "      <td>66</td>\n",
              "      <td>29</td>\n",
              "      <td>0</td>\n",
              "      <td>26.600</td>\n",
              "      <td>0.351</td>\n",
              "      <td>31</td>\n",
              "      <td>0</td>\n",
              "    </tr>\n",
              "    <tr>\n",
              "      <th>2</th>\n",
              "      <td>8</td>\n",
              "      <td>183</td>\n",
              "      <td>64</td>\n",
              "      <td>0</td>\n",
              "      <td>0</td>\n",
              "      <td>23.300</td>\n",
              "      <td>0.672</td>\n",
              "      <td>32</td>\n",
              "      <td>1</td>\n",
              "    </tr>\n",
              "    <tr>\n",
              "      <th>3</th>\n",
              "      <td>1</td>\n",
              "      <td>89</td>\n",
              "      <td>66</td>\n",
              "      <td>23</td>\n",
              "      <td>94</td>\n",
              "      <td>28.100</td>\n",
              "      <td>0.167</td>\n",
              "      <td>21</td>\n",
              "      <td>0</td>\n",
              "    </tr>\n",
              "    <tr>\n",
              "      <th>4</th>\n",
              "      <td>0</td>\n",
              "      <td>137</td>\n",
              "      <td>40</td>\n",
              "      <td>35</td>\n",
              "      <td>168</td>\n",
              "      <td>43.100</td>\n",
              "      <td>2.288</td>\n",
              "      <td>33</td>\n",
              "      <td>1</td>\n",
              "    </tr>\n",
              "  </tbody>\n",
              "</table>\n",
              "</div>"
            ],
            "text/plain": [
              "   PREGNANCIES  GLUCOSE  BLOODPRESSURE  SKINTHICKNESS  INSULIN    BMI  DIABETESPEDIGREEFUNCTION  AGE  OUTCOME\n",
              "0            6      148             72             35        0 33.600                     0.627   50        1\n",
              "1            1       85             66             29        0 26.600                     0.351   31        0\n",
              "2            8      183             64              0        0 23.300                     0.672   32        1\n",
              "3            1       89             66             23       94 28.100                     0.167   21        0\n",
              "4            0      137             40             35      168 43.100                     2.288   33        1"
            ]
          },
          "execution_count": 96,
          "metadata": {},
          "output_type": "execute_result"
        }
      ],
      "source": [
        "df.head()"
      ]
    },
    {
      "cell_type": "code",
      "execution_count": 97,
      "metadata": {
        "execution": {
          "iopub.execute_input": "2022-01-17T13:22:50.303763Z",
          "iopub.status.busy": "2022-01-17T13:22:50.303183Z",
          "iopub.status.idle": "2022-01-17T13:22:50.315013Z",
          "shell.execute_reply": "2022-01-17T13:22:50.314368Z",
          "shell.execute_reply.started": "2022-01-17T13:22:50.303726Z"
        },
        "id": "gvYKULBqSO20"
      },
      "outputs": [
        {
          "name": "stdout",
          "output_type": "stream",
          "text": [
            "     OUTCOME\n",
            "AGE         \n",
            "21     0.079\n",
            "22     0.153\n",
            "23     0.184\n",
            "24     0.174\n",
            "25     0.292\n",
            "26     0.242\n",
            "27     0.250\n",
            "28     0.286\n",
            "29     0.448\n",
            "30     0.286\n",
            "31     0.542\n",
            "32     0.562\n",
            "33     0.588\n",
            "34     0.286\n",
            "35     0.500\n",
            "36     0.625\n",
            "37     0.316\n",
            "38     0.625\n",
            "39     0.250\n",
            "40     0.462\n",
            "41     0.591\n",
            "42     0.389\n",
            "43     0.846\n",
            "44     0.625\n",
            "45     0.533\n",
            "46     0.538\n",
            "47     0.667\n",
            "48     0.200\n",
            "49     0.600\n",
            "50     0.625\n",
            "51     0.625\n",
            "52     0.875\n",
            "53     0.800\n",
            "54     0.667\n",
            "55     0.250\n",
            "56     0.667\n",
            "57     0.200\n",
            "58     0.429\n",
            "59     0.667\n",
            "60     0.400\n",
            "61     0.500\n",
            "62     0.500\n",
            "63     0.000\n",
            "64     0.000\n",
            "65     0.000\n",
            "66     0.500\n",
            "67     0.333\n",
            "68     0.000\n",
            "69     0.000\n",
            "70     1.000\n",
            "72     0.000\n",
            "81     0.000\n",
            "\n",
            "\n"
          ]
        }
      ],
      "source": [
        "def target_summary_with_num(dataframe, target, numerical_col):\n",
        "    print(dataframe.groupby(target).agg({numerical_col: \"mean\"}), end=\"\\n\\n\\n\")\n",
        "\n",
        "res = target_summary_with_num(df,'AGE', 'OUTCOME')\n",
        "\n",
        "# print(df[df['OUTCOME'] == 1].agg)\n",
        "\n",
        "# sns(res)"
      ]
    },
    {
      "cell_type": "markdown",
      "metadata": {
        "id": "KxqQQ1-fzSwX"
      },
      "source": [
        "❗**Plot the correlation matrix between different features (outcome included). Which feature is highest correlated with the target?** (Hint: Use the correlation function in the dataframe type. You can plot it using seaborn heatmap)"
      ]
    },
    {
      "cell_type": "code",
      "execution_count": 98,
      "metadata": {
        "execution": {
          "iopub.execute_input": "2022-01-17T13:22:50.318406Z",
          "iopub.status.busy": "2022-01-17T13:22:50.317754Z",
          "iopub.status.idle": "2022-01-17T13:22:50.983677Z",
          "shell.execute_reply": "2022-01-17T13:22:50.983031Z",
          "shell.execute_reply.started": "2022-01-17T13:22:50.318368Z"
        },
        "id": "sIBkMUCCSO20"
      },
      "outputs": [
        {
          "data": {
            "text/plain": [
              "<Axes: >"
            ]
          },
          "execution_count": 98,
          "metadata": {},
          "output_type": "execute_result"
        },
        {
          "data": {
            "image/png": "[encoded data removed]",
            "text/plain": [
              "<Figure size 640x480 with 2 Axes>"
            ]
          },
          "metadata": {},
          "output_type": "display_data"
        }
      ],
      "source": [
        "# f, ax = plt.subplots(figsize=[7, 5])\n",
        "## ... add code here ##\n",
        "sns.heatmap(df.corr())\n",
        "\n",
        "\n",
        "# ax.set_title(\"Correlation Matrix\", fontsize=20)\n",
        "# plt.show()"
      ]
    },
    {
      "cell_type": "markdown",
      "metadata": {
        "id": "KmDf2DPDSO21"
      },
      "source": [
        "### 2.2 Missing Value Analysis\n",
        "\n",
        "❗**How many missing values (NA values) are there?** Hint: https://pandas.pydata.org/docs/user_guide/missing_data.html\n",
        "\n",
        "\n"
      ]
    },
    {
      "cell_type": "code",
      "execution_count": 99,
      "metadata": {
        "execution": {
          "iopub.execute_input": "2022-01-17T13:22:50.985636Z",
          "iopub.status.busy": "2022-01-17T13:22:50.984981Z",
          "iopub.status.idle": "2022-01-17T13:22:50.994Z",
          "shell.execute_reply": "2022-01-17T13:22:50.993053Z",
          "shell.execute_reply.started": "2022-01-17T13:22:50.985604Z"
        },
        "id": "kYsUTP37SO21"
      },
      "outputs": [
        {
          "name": "stdout",
          "output_type": "stream",
          "text": [
            "PREGNANCIES                 0\n",
            "GLUCOSE                     0\n",
            "BLOODPRESSURE               0\n",
            "SKINTHICKNESS               0\n",
            "INSULIN                     0\n",
            "BMI                         0\n",
            "DIABETESPEDIGREEFUNCTION    0\n",
            "AGE                         0\n",
            "OUTCOME                     0\n",
            "dtype: int64\n"
          ]
        }
      ],
      "source": [
        "## .. add code here ...\n",
        "\n",
        "# df.count(df.isnull())\n",
        "missing_counts = df.isna().sum()\n",
        "print(missing_counts)\n"
      ]
    },
    {
      "cell_type": "code",
      "execution_count": 100,
      "metadata": {},
      "outputs": [
        {
          "data": {
            "text/plain": [
              "PREGNANCIES                0.000\n",
              "GLUCOSE                    0.000\n",
              "BLOODPRESSURE              0.000\n",
              "SKINTHICKNESS              0.000\n",
              "INSULIN                    0.000\n",
              "BMI                        0.000\n",
              "DIABETESPEDIGREEFUNCTION   0.000\n",
              "AGE                        0.000\n",
              "OUTCOME                    0.000\n",
              "dtype: float64"
            ]
          },
          "execution_count": 100,
          "metadata": {},
          "output_type": "execute_result"
        }
      ],
      "source": [
        "df[df==0].sum()"
      ]
    },
    {
      "cell_type": "markdown",
      "metadata": {
        "id": "Z5Az4PKstpju"
      },
      "source": [
        "However, if you look at BLOODPRESSURE (or BMI or INSULIN for example) you can notice some values which do not make any sense.  \n",
        "How many nonsensical values are there?"
      ]
    },
    {
      "cell_type": "code",
      "execution_count": 101,
      "metadata": {
        "id": "klfrHnZLtqq1"
      },
      "outputs": [
        {
          "data": {
            "text/plain": [
              "PREGNANCIES                 111\n",
              "GLUCOSE                       5\n",
              "BLOODPRESSURE                35\n",
              "SKINTHICKNESS               227\n",
              "INSULIN                     374\n",
              "BMI                          11\n",
              "DIABETESPEDIGREEFUNCTION      0\n",
              "AGE                           0\n",
              "OUTCOME                     500\n",
              "dtype: int64"
            ]
          },
          "execution_count": 101,
          "metadata": {},
          "output_type": "execute_result"
        }
      ],
      "source": [
        "## .. replace \"??\" by the nonsensical value .. \"\"\n",
        "(df==0).sum()\n",
        "# df.BLOODPRESSURE"
      ]
    },
    {
      "cell_type": "markdown",
      "metadata": {
        "id": "NuK7uo1CYKsc"
      },
      "source": [
        "❗ **Replace those values with NaN**\n",
        "\n",
        "Hint: https://pandas.pydata.org/docs/reference/api/pandas.DataFrame.replace.html\n",
        "\n",
        "(Here we replace the nonsensical values with NaN so that we can easily make use of pandas functions afterwards and test different data inputation methods. You can equally replace directly these values.)  "
      ]
    },
    {
      "cell_type": "code",
      "execution_count": 102,
      "metadata": {
        "execution": {
          "iopub.execute_input": "2022-01-17T13:22:50.995633Z",
          "iopub.status.busy": "2022-01-17T13:22:50.995262Z",
          "iopub.status.idle": "2022-01-17T13:22:51.008171Z",
          "shell.execute_reply": "2022-01-17T13:22:51.007029Z",
          "shell.execute_reply.started": "2022-01-17T13:22:50.995605Z"
        },
        "id": "7jZTebAMSO22"
      },
      "outputs": [],
      "source": [
        "## .. replace only the relevant feature values .. ##\n",
        "df[[\"GLUCOSE\",\"BLOODPRESSURE\",\"SKINTHICKNESS\",\"INSULIN\",\"BMI\"]] = df[[\"GLUCOSE\",\"BLOODPRESSURE\",\"SKINTHICKNESS\",\"INSULIN\",\"BMI\"]].replace(0, np.NaN) ## add code here ##"
      ]
    },
    {
      "cell_type": "code",
      "execution_count": 107,
      "metadata": {},
      "outputs": [
        {
          "data": {
            "text/plain": [
              "PREGNANCIES                 0\n",
              "GLUCOSE                     0\n",
              "BLOODPRESSURE               0\n",
              "SKINTHICKNESS               0\n",
              "INSULIN                     0\n",
              "BMI                         0\n",
              "DIABETESPEDIGREEFUNCTION    0\n",
              "AGE                         0\n",
              "OUTCOME                     0\n",
              "dtype: int64"
            ]
          },
          "execution_count": 107,
          "metadata": {},
          "output_type": "execute_result"
        }
      ],
      "source": [
        "(df==np.NaN).sum()\n"
      ]
    },
    {
      "cell_type": "code",
      "execution_count": 108,
      "metadata": {
        "colab": {
          "base_uri": "https://localhost:8080/",
          "height": 141
        },
        "execution": {
          "iopub.execute_input": "2022-01-17T13:22:51.010996Z",
          "iopub.status.busy": "2022-01-17T13:22:51.010095Z",
          "iopub.status.idle": "2022-01-17T13:22:51.025685Z",
          "shell.execute_reply": "2022-01-17T13:22:51.02509Z",
          "shell.execute_reply.started": "2022-01-17T13:22:51.010933Z"
        },
        "id": "LgN5inG4SO22",
        "outputId": "345fff4a-be0e-4501-997d-e8f49ce6af63"
      },
      "outputs": [
        {
          "name": "stdout",
          "output_type": "stream",
          "text": [
            "               n_miss  ratio\n",
            "INSULIN           374 48.700\n",
            "SKINTHICKNESS     227 29.560\n",
            "BLOODPRESSURE      35  4.560\n",
            "BMI                11  1.430\n",
            "GLUCOSE             5  0.650\n"
          ]
        }
      ],
      "source": [
        "na_cols = missing_values_table(df, True)"
      ]
    },
    {
      "cell_type": "markdown",
      "metadata": {
        "id": "u-6d0Jb0Ymff"
      },
      "source": [
        "❗**How would you handle missing data?** Hint: you can use the function bellow.\n",
        "Alternatively, use the fillna method: https://pandas.pydata.org/docs/reference/api/pandas.DataFrame.fillna.html.\n",
        "\n",
        "Some examples:\n",
        "https://towardsdatascience.com/8-methods-for-handling-missing-values-with-python-pandas-842544cdf891\n",
        "\n",
        "\n"
      ]
    },
    {
      "cell_type": "code",
      "execution_count": 105,
      "metadata": {
        "execution": {
          "iopub.execute_input": "2022-01-17T13:22:51.740854Z",
          "iopub.status.busy": "2022-01-17T13:22:51.740603Z",
          "iopub.status.idle": "2022-01-17T13:22:51.746751Z",
          "shell.execute_reply": "2022-01-17T13:22:51.745904Z",
          "shell.execute_reply.started": "2022-01-17T13:22:51.740823Z"
        },
        "id": "e8HAmMdMSO23"
      },
      "outputs": [],
      "source": [
        "def median_target(variable):\n",
        "    temp = df[df[variable].notna()]\n",
        "    temp = temp[[variable, 'OUTCOME']].groupby(['OUTCOME'])[[variable]].median().reset_index()\n",
        "    return temp"
      ]
    },
    {
      "cell_type": "code",
      "execution_count": 106,
      "metadata": {
        "execution": {
          "iopub.execute_input": "2022-01-17T13:22:51.749086Z",
          "iopub.status.busy": "2022-01-17T13:22:51.748476Z",
          "iopub.status.idle": "2022-01-17T13:22:51.837317Z",
          "shell.execute_reply": "2022-01-17T13:22:51.836165Z",
          "shell.execute_reply.started": "2022-01-17T13:22:51.749041Z"
        },
        "id": "nwS6-EgtSO23"
      },
      "outputs": [
        {
          "ename": "SyntaxError",
          "evalue": "invalid syntax (3516810594.py, line 5)",
          "output_type": "error",
          "traceback": [
            "\u001b[1;36m  Cell \u001b[1;32mIn[106], line 5\u001b[1;36m\u001b[0m\n\u001b[1;33m    df.loc[(df['OUTCOME'] == 0) & (df[col].isna()), col] = ## ??? ##\u001b[0m\n\u001b[1;37m                                                           ^\u001b[0m\n\u001b[1;31mSyntaxError\u001b[0m\u001b[1;31m:\u001b[0m invalid syntax\n"
          ]
        }
      ],
      "source": [
        "\n",
        "\n",
        "\n",
        "columns = df.columns\n",
        "columns = columns.drop(\"OUTCOME\")\n",
        "\n",
        "for col in columns:\n",
        "    df.loc[(df['OUTCOME'] == 0) & (df[col].isna()), col] = \n",
        "    df.loc[(df['OUTCOME'] == 1) & (df[col].isna()), col] = ## ??? ##\n",
        "\n",
        "\n"
      ]
    },
    {
      "cell_type": "markdown",
      "metadata": {
        "id": "SjsWnTjxSO25"
      },
      "source": [
        "### 2.3 Feature Standarzation\n",
        "\n",
        "❗**Why do we need feature standardization?** (Hint: to implement use a Scaler object from python)"
      ]
    },
    {
      "cell_type": "code",
      "execution_count": 109,
      "metadata": {
        "execution": {
          "iopub.execute_input": "2022-01-17T13:22:52.167122Z",
          "iopub.status.busy": "2022-01-17T13:22:52.166848Z",
          "iopub.status.idle": "2022-01-17T13:22:52.197507Z",
          "shell.execute_reply": "2022-01-17T13:22:52.196584Z",
          "shell.execute_reply.started": "2022-01-17T13:22:52.167087Z"
        },
        "id": "c0JPu08pSO25"
      },
      "outputs": [
        {
          "name": "stdout",
          "output_type": "stream",
          "text": [
            "   PREGNANCIES  GLUCOSE  BLOODPRESSURE  SKINTHICKNESS  INSULIN    BMI  DIABETESPEDIGREEFUNCTION    AGE  OUTCOME\n",
            "0        0.640    0.862         -0.033          0.559      NaN  0.165                     0.468  1.426        1\n",
            "1       -0.845   -1.202         -0.518         -0.015      NaN -0.846                    -0.365 -0.191        0\n",
            "2        1.234    2.009         -0.679            NaN      NaN -1.323                     0.604 -0.106        1\n",
            "3       -0.845   -1.071         -0.518         -0.588   -0.519 -0.630                    -0.921 -1.042        0\n",
            "4       -1.142    0.502         -2.619          0.559    0.105  1.538                     5.485 -0.020        1\n"
          ]
        }
      ],
      "source": [
        "from sklearn.preprocessing import StandardScaler\n",
        "\n",
        "# Assuming 'df' is your DataFrame and 'num_cols' is a list of numerical column names\n",
        "\n",
        "# Choose a scaler (StandardScaler in this case)\n",
        "scaler = StandardScaler()\n",
        "\n",
        "# Fit and transform the numerical columns\n",
        "df[num_cols] = scaler.fit_transform(df[num_cols])\n",
        "\n",
        "# Display the first few rows of the transformed DataFrame\n",
        "print(df.head())\n"
      ]
    },
    {
      "cell_type": "markdown",
      "metadata": {
        "id": "Yu2oTQ4uSO26"
      },
      "source": [
        "## 🤖 3. Model training and evalation"
      ]
    },
    {
      "cell_type": "markdown",
      "metadata": {
        "id": "_isjxhM7P9Zu"
      },
      "source": [
        "\n",
        "### 3.1 Simple model\n",
        "\n",
        "❗**Train a ML model!** Data is already split into train and test. First, try out a [logistic regression](https://scikit-learn.org/stable/modules/linear_model.html#logistic-regression). What accuracy do you get?      "
      ]
    },
    {
      "cell_type": "code",
      "execution_count": null,
      "metadata": {
        "execution": {
          "iopub.execute_input": "2022-01-17T13:22:52.199326Z",
          "iopub.status.busy": "2022-01-17T13:22:52.199068Z",
          "iopub.status.idle": "2022-01-17T13:22:52.503211Z",
          "shell.execute_reply": "2022-01-17T13:22:52.502129Z",
          "shell.execute_reply.started": "2022-01-17T13:22:52.199294Z"
        },
        "id": "FUEMCXmDSO26"
      },
      "outputs": [],
      "source": [
        "y = df[\"OUTCOME\"]\n",
        "X = df.drop([\"OUTCOME\"], axis=1)\n",
        "X_train, X_test, y_train, y_test = train_test_split(X, y, test_size=0.30, random_state=17)\n",
        "\n",
        "## ...import your linear classifier ##\n",
        "model = ## ... ##\n",
        "## ...train your model ##\n",
        "y_pred = ## ... predict on test data ##\n",
        "\n",
        "y_pred = model.predict(X_test)\n",
        "accuracy_score(y_pred, y_test)\n",
        "\n",
        "\n",
        "\n",
        "\n"
      ]
    },
    {
      "cell_type": "markdown",
      "metadata": {
        "id": "9l5Cb1ZlS1US"
      },
      "source": [
        "### 3.2 Evaluation metrics\n",
        "\n",
        "❗**Plot the results. What other metrics than accuracy can you think of?** Hint: [ROC](https://stackoverflow.com/questions/25009284/how-to-plot-roc-curve-in-python). What about precision-recall? Confusion m...?"
      ]
    },
    {
      "cell_type": "code",
      "execution_count": null,
      "metadata": {
        "id": "DWW8piicTa88"
      },
      "outputs": [],
      "source": [
        "import sklearn.metrics as metrics\n",
        "## Calculate the fpr and tpr for all thresholds of the classification ##\n",
        "\n",
        "probs = model.predict_proba(X_test)\n",
        "y_pred_proba = probs[:,1]\n",
        "\n",
        "## ... plot a roc curve ##\n",
        "\n",
        "## ... plot a another curve? ##\n",
        "\n",
        "\n",
        "from sklearn.metrics import confusion_matrix\n",
        "## Get the confusion matrix ##\n",
        "\n",
        "## ... add code here ##\n",
        "\n"
      ]
    },
    {
      "cell_type": "markdown",
      "metadata": {
        "id": "dm5ysmCrzsnJ"
      },
      "source": [
        "### 3.3 Compare different types of classifiers\n",
        "\n",
        "❗Try an SVM or a Random Forest. Hint: Check out the [sklearn](https://scikit-learn.org/stable/supervised_learning.html) classifiers."
      ]
    },
    {
      "cell_type": "code",
      "execution_count": null,
      "metadata": {
        "id": "RQaqA7oczwmK"
      },
      "outputs": [],
      "source": [
        "y = df[\"OUTCOME\"]\n",
        "X = df.drop([\"OUTCOME\"], axis=1)\n",
        "X_train, X_test, y_train, y_test = train_test_split(X, y, test_size=0.30, random_state=17)\n",
        "## ... add code here ##\n"
      ]
    },
    {
      "cell_type": "markdown",
      "metadata": {
        "id": "HZSk4wAtUcLU"
      },
      "source": [
        "**Robust evaluation**\n",
        "\n",
        "❗Evaluate your models performance on multiple train-test splits. What is the average performance of your models? Try out different metrics.  \n",
        "\n",
        "Hint: [Cross Validation](https://scikit-learn.org/stable/modules/cross_validation.html). You can either implement it on your own (for loop) or use the functions available in sklearn."
      ]
    },
    {
      "cell_type": "code",
      "execution_count": null,
      "metadata": {
        "execution": {
          "iopub.execute_input": "2022-01-17T13:22:52.504899Z",
          "iopub.status.busy": "2022-01-17T13:22:52.504674Z",
          "iopub.status.idle": "2022-01-17T13:22:52.912797Z",
          "shell.execute_reply": "2022-01-17T13:22:52.911749Z",
          "shell.execute_reply.started": "2022-01-17T13:22:52.504871Z"
        },
        "id": "r4K8LikDSO26"
      },
      "outputs": [],
      "source": [
        "\n",
        "#cross validation\n",
        "## .. add code here ###"
      ]
    },
    {
      "cell_type": "markdown",
      "metadata": {
        "id": "rWa6bvSzSO26"
      },
      "source": [
        "## 🗣️ 4. Discussion :"
      ]
    },
    {
      "cell_type": "markdown",
      "metadata": {
        "id": "cqjeMf_TSO27"
      },
      "source": [
        "❗ **What is the problem you want to solve? Why is it important?**\n",
        "\n",
        "❗ **Are there any challenges with the data?**\n",
        "\n",
        "❗**What are the challenges of deploying this a model in a clinical setting? Would it work?**"
      ]
    }
  ],
  "metadata": {
    "colab": {
      "provenance": [],
      "toc_visible": true
    },
    "kernelspec": {
      "display_name": ".venv",
      "language": "python",
      "name": "python3"
    },
    "language_info": {
      "codemirror_mode": {
        "name": "ipython",
        "version": 3
      },
      "file_extension": ".py",
      "mimetype": "text/x-python",
      "name": "python",
      "nbconvert_exporter": "python",
      "pygments_lexer": "ipython3",
      "version": "3.11.4"
    }
  },
  "nbformat": 4,
  "nbformat_minor": 0
}
